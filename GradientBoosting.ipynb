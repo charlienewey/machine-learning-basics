{
 "cells": [
  {
   "cell_type": "code",
   "execution_count": 61,
   "metadata": {
    "ExecuteTime": {
     "end_time": "2018-12-14T17:50:57.899610Z",
     "start_time": "2018-12-14T17:50:57.413580Z"
    }
   },
   "outputs": [
    {
     "name": "stderr",
     "output_type": "stream",
     "text": [
      "/usr/lib/python3.6/importlib/_bootstrap.py:219: RuntimeWarning: numpy.dtype size changed, may indicate binary incompatibility. Expected 96, got 88\n",
      "  return f(*args, **kwds)\n"
     ]
    }
   ],
   "source": [
    "%matplotlib inline\n",
    "\n",
    "import sklearn\n",
    "import numpy as np\n",
    "\n",
    "from matplotlib import pyplot as plt\n",
    "import seaborn as sns\n",
    "\n",
    "from sklearn.datasets import load_boston\n",
    "from sklearn.model_selection import train_test_split\n",
    "from sklearn.tree import DecisionTreeRegressor\n",
    "\n",
    "sns.set_style('whitegrid')"
   ]
  },
  {
   "cell_type": "code",
   "execution_count": 6,
   "metadata": {
    "ExecuteTime": {
     "end_time": "2018-12-14T17:17:42.223105Z",
     "start_time": "2018-12-14T17:17:42.201222Z"
    }
   },
   "outputs": [],
   "source": [
    "X, y = load_boston(return_X_y=True)"
   ]
  },
  {
   "cell_type": "code",
   "execution_count": 12,
   "metadata": {
    "ExecuteTime": {
     "end_time": "2018-12-14T17:23:00.513640Z",
     "start_time": "2018-12-14T17:23:00.510682Z"
    }
   },
   "outputs": [],
   "source": [
    "Xtr, Xva, ytr, yva = train_test_split(X, y, shuffle=True)"
   ]
  },
  {
   "cell_type": "code",
   "execution_count": 63,
   "metadata": {
    "ExecuteTime": {
     "end_time": "2018-12-14T17:52:31.154041Z",
     "start_time": "2018-12-14T17:52:30.748367Z"
    }
   },
   "outputs": [
    {
     "name": "stdout",
     "output_type": "stream",
     "text": [
      "training error: 3.6169919985473085, validation error: 3.427774414300282\n",
      "training error: 3.437473381069593, validation error: 3.283142998540601\n",
      "training error: 3.2966024536971537, validation error: 3.1165568978890414\n",
      "training error: 3.1745053542671613, validation error: 3.0358176913602417\n",
      "training error: 3.0857294341961863, validation error: 2.986051743700792\n",
      "training error: 2.999329472290439, validation error: 2.957290250447813\n",
      "training error: 2.882186181820627, validation error: 2.8746081712305167\n",
      "training error: 2.8063923402350803, validation error: 2.8251690876229225\n",
      "training error: 2.736645773184829, validation error: 2.7620495526348456\n",
      "training error: 2.6893168155776266, validation error: 2.74786626500932\n",
      "training error: 2.638483401365664, validation error: 2.7074412772316476\n",
      "training error: 2.5752811050050695, validation error: 2.7072364329187093\n",
      "training error: 2.532863688672846, validation error: 2.6654546469255114\n",
      "training error: 2.487691746758752, validation error: 2.598433269419633\n",
      "training error: 2.4502562704394713, validation error: 2.5823110741677233\n",
      "training error: 2.424117394075903, validation error: 2.572325823079397\n",
      "training error: 2.3693262279170666, validation error: 2.5764610672139816\n",
      "training error: 2.3299296692724676, validation error: 2.5303812361207645\n",
      "training error: 2.318145568444735, validation error: 2.5081049039613785\n",
      "training error: 2.29930669258853, validation error: 2.5030551751635453\n",
      "training error: 2.268517849179368, validation error: 2.53032115428774\n",
      "training error: 2.2327052248919874, validation error: 2.4958354091831856\n",
      "training error: 2.1874937765962588, validation error: 2.390920244323716\n",
      "training error: 2.162674744707452, validation error: 2.4045534830839257\n",
      "training error: 2.1403718292334837, validation error: 2.3844962395133\n",
      "training error: 2.1166959357294024, validation error: 2.3374881856300176\n",
      "training error: 2.0621734350630163, validation error: 2.2934806820526394\n",
      "training error: 2.0191819686138426, validation error: 2.2641269304791276\n",
      "training error: 1.9979117785635163, validation error: 2.2881993125066327\n",
      "training error: 1.9809382573805503, validation error: 2.276268558770349\n",
      "training error: 1.9644733486237462, validation error: 2.280191093226087\n",
      "training error: 1.9460011592859268, validation error: 2.274070491323888\n",
      "training error: 1.9440175186703252, validation error: 2.2652124825528848\n",
      "training error: 1.934972399637474, validation error: 2.2582536400967954\n",
      "training error: 1.9031421072182115, validation error: 2.2565122485910605\n",
      "training error: 1.8917280647828105, validation error: 2.253759461668231\n",
      "training error: 1.881677215291586, validation error: 2.2682340571794284\n",
      "training error: 1.8766225706510775, validation error: 2.2762361057038505\n",
      "training error: 1.8741978586723076, validation error: 2.2755248256462273\n",
      "training error: 1.8621479525004294, validation error: 2.2816697186916217\n",
      "training error: 1.8672649830648682, validation error: 2.2571918001705673\n",
      "training error: 1.864834374746944, validation error: 2.256741243411143\n",
      "training error: 1.8595305458136444, validation error: 2.240776892801123\n",
      "training error: 1.8506407569585972, validation error: 2.243913153310932\n",
      "training error: 1.8513385007493868, validation error: 2.2429651490930267\n",
      "training error: 1.8384112367723204, validation error: 2.238054341117014\n",
      "training error: 1.8401247298282075, validation error: 2.2477990026652597\n",
      "training error: 1.838168099161834, validation error: 2.2453340899829577\n",
      "training error: 1.8447774741333036, validation error: 2.2470494145014035\n",
      "training error: 1.8383351272860273, validation error: 2.2701797541271214\n",
      "training error: 1.8421212557620035, validation error: 2.2705507063392214\n",
      "training error: 1.8394423612006054, validation error: 2.286565776378999\n",
      "training error: 1.8386151278239433, validation error: 2.2542960998275547\n",
      "training error: 1.8344890407159178, validation error: 2.2862224786488348\n",
      "training error: 1.8263682478427425, validation error: 2.271022722660843\n",
      "training error: 1.8300549117017424, validation error: 2.2863213270051075\n",
      "training error: 1.8263086350754598, validation error: 2.2622594731098773\n",
      "training error: 1.826811584859291, validation error: 2.294528893346604\n",
      "training error: 1.8215035000652031, validation error: 2.271523021967785\n",
      "training error: 1.8184934368716257, validation error: 2.2802986558217837\n",
      "training error: 1.811514611036606, validation error: 2.2781931004123352\n",
      "training error: 1.8111238169371666, validation error: 2.2887793190147305\n",
      "training error: 1.8056171441941469, validation error: 2.2864271201581663\n",
      "training error: 1.8019722412038914, validation error: 2.2932454282604278\n",
      "training error: 1.795942164304901, validation error: 2.286514540656936\n",
      "training error: 1.7948972770160978, validation error: 2.2935416294797895\n",
      "training error: 1.793801616063041, validation error: 2.290869935577842\n",
      "training error: 1.7922772368721724, validation error: 2.298653685233061\n",
      "training error: 1.7891383395011262, validation error: 2.2914435889266045\n",
      "training error: 1.7936219844339187, validation error: 2.2988738780226297\n",
      "training error: 1.7891771085679216, validation error: 2.306881489133373\n",
      "training error: 1.7941634958888952, validation error: 2.309059349690789\n",
      "training error: 1.7861014819408203, validation error: 2.2985642273213647\n",
      "training error: 1.7897666960774827, validation error: 2.3047942578272713\n",
      "training error: 1.7799495936649212, validation error: 2.29424035790227\n",
      "training error: 1.7882268204271539, validation error: 2.3011007073455825\n",
      "training error: 1.7770980974342805, validation error: 2.298793765998986\n",
      "training error: 1.7826822687405626, validation error: 2.297130125223488\n",
      "training error: 1.771852018058977, validation error: 2.2948051260691824\n",
      "training error: 1.7771377170539713, validation error: 2.2931595431013934\n",
      "training error: 1.7666059386836743, validation error: 2.2908164861393776\n",
      "training error: 1.7742807533830383, validation error: 2.2891889609792986\n",
      "training error: 1.7640556033655381, validation error: 2.2862504183880517\n",
      "training error: 1.776857735057365, validation error: 2.2890705072573514\n",
      "training error: 1.75762004258738, validation error: 2.282254705970336\n",
      "training error: 1.7721510401493437, validation error: 2.286566228686343\n",
      "training error: 1.7561512372693502, validation error: 2.285166725244666\n",
      "training error: 1.759369080042321, validation error: 2.2842093960974346\n",
      "training error: 1.7433995756855942, validation error: 2.2960494695552964\n",
      "training error: 1.7386799337903938, validation error: 2.304393054643692\n",
      "training error: 1.7410928563632402, validation error: 2.3642789081745286\n",
      "training error: 1.7339417405005375, validation error: 2.3466732336503155\n",
      "training error: 1.7115800618128205, validation error: 2.311050791901233\n",
      "training error: 1.7238002064544768, validation error: 2.337623486791562\n",
      "training error: 1.7213688118673223, validation error: 2.3195592074995854\n",
      "training error: 1.7219268501766516, validation error: 2.358501030198476\n",
      "training error: 1.718052427642273, validation error: 2.327717239102149\n",
      "training error: 1.720693331288454, validation error: 2.34113998273646\n",
      "training error: 1.7180859573246214, validation error: 2.386594474070223\n"
     ]
    }
   ],
   "source": [
    "T = 100       # boosting iterations\n",
    "D = 2        # max depth\n",
    "alpha = 0.1  # learning rate\n",
    "\n",
    "def abs_pseudo_residual(yhat, y):\n",
    "    pr = -((yhat - y) / np.abs(yhat - y))\n",
    "    pr[np.isnan(pr)] = 0  # fill in nans\n",
    "    return pr\n",
    "\n",
    "training_errors = []\n",
    "validation_errors = []\n",
    "\n",
    "learners = []\n",
    "learners.append(DecisionTreeRegressor(max_depth=D).fit(Xtr, ytr))\n",
    "\n",
    "# boost...\n",
    "for t in range(T - 1):\n",
    "    # compute training and validation error\n",
    "    t_prd = np.zeros_like(ytr)\n",
    "    v_prd = np.zeros_like(yva)\n",
    "    for rgr in learners:\n",
    "        t_prd += rgr.predict(Xtr)\n",
    "        v_prd += rgr.predict(Xva)\n",
    "    t_err = (t_prd - ytr)\n",
    "    v_err = (v_prd - yva)\n",
    "    \n",
    "    training_errors.append(np.abs(t_err).mean())\n",
    "    validation_errors.append(np.abs(v_err).mean())\n",
    "    print(\"training error: {}, validation error: {}\".format(\n",
    "        np.abs(t_err).mean(),\n",
    "        np.abs(v_err).mean()\n",
    "    ))\n",
    "    \n",
    "    #print(\"training error: {}\".format(np.abs(t_err).mean()))\n",
    "    \n",
    "    pr = abs_pseudo_residual(t_prd, ytr)\n",
    "    \n",
    "    rgr = DecisionTreeRegressor(max_depth=D)\n",
    "    rgr.fit(Xtr, pr)\n",
    "    learners.append(rgr)"
   ]
  },
  {
   "cell_type": "code",
   "execution_count": 70,
   "metadata": {
    "ExecuteTime": {
     "end_time": "2018-12-14T17:54:26.440798Z",
     "start_time": "2018-12-14T17:54:26.179539Z"
    }
   },
   "outputs": [
    {
     "data": {
      "image/png": "[encoded data removed]",
      "text/plain": [
       "<matplotlib.figure.Figure at 0x7fb1d7690710>"
      ]
     },
     "metadata": {
      "needs_background": "light"
     },
     "output_type": "display_data"
    }
   ],
   "source": [
    "plt.figure(figsize=(12, 8))\n",
    "plt.plot(range(T-1), training_errors)\n",
    "plt.plot(range(T-1), validation_errors)\n",
    "plt.legend(['Training Error', 'Validation Error'])\n",
    "plt.title('Training vs. Validation Error')\n",
    "plt.ylabel('Mean Absolute Error (MAE)')\n",
    "plt.xlabel('# Gradient Boosting Iterations')\n",
    "\n",
    "plt.savefig('gradient_boosting_validation_error.png')"
   ]
  },
  {
   "cell_type": "code",
   "execution_count": null,
   "metadata": {},
   "outputs": [],
   "source": []
  }
 ],
 "metadata": {
  "kernelspec": {
   "display_name": "Python 3",
   "language": "python",
   "name": "python3"
  },
  "language_info": {
   "codemirror_mode": {
    "name": "ipython",
    "version": 3
   },
   "file_extension": ".py",
   "mimetype": "text/x-python",
   "name": "python",
   "nbconvert_exporter": "python",
   "pygments_lexer": "ipython3",
   "version": "3.6.7"
  },
  "toc": {
   "base_numbering": 1,
   "nav_menu": {},
   "number_sections": true,
   "sideBar": true,
   "skip_h1_title": false,
   "title_cell": "Table of Contents",
   "title_sidebar": "Contents",
   "toc_cell": false,
   "toc_position": {},
   "toc_section_display": true,
   "toc_window_display": false
  }
 },
 "nbformat": 4,
 "nbformat_minor": 2
}